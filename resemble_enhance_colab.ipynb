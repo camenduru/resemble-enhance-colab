{
  "cells": [
    {
      "cell_type": "markdown",
      "metadata": {
        "id": "view-in-github"
      },
      "source": [
        "[![Open In Colab](https://colab.research.google.com/assets/colab-badge.svg)](https://colab.research.google.com/github/camenduru/resemble-enhance-colab/blob/main/resemble_enhance_colab.ipynb)"
      ]
    },
    {
      "cell_type": "code",
      "execution_count": null,
      "metadata": {
        "id": "VjYy0F2gZIPR"
      },
      "outputs": [],
      "source": [
        "%cd /content\n",
        "!git clone -b dev https://github.com/camenduru/resemble-enhance\n",
        "%cd /content/resemble-enhance\n",
        "# !pip install -q celluloid==0.2.0 deepspeed==0.12.4 omegaconf==2.3.0 ptflops==0.7.1.2 soundfile==0.12.1 resampy==0.4.2 gradio==4.8.0\n",
        "!pip install -e .\n",
        "!python app.py"
      ]
    }
  ],
  "metadata": {
    "accelerator": "GPU",
    "colab": {
      "gpuType": "T4",
      "provenance": []
    },
    "kernelspec": {
      "display_name": "Python 3",
      "name": "python3"
    },
    "language_info": {
      "name": "python"
    }
  },
  "nbformat": 4,
  "nbformat_minor": 0
}
